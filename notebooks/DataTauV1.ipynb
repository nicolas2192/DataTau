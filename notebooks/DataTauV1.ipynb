{
 "cells": [
  {
   "cell_type": "markdown",
   "metadata": {},
   "source": [
    "# DataTau Scraper"
   ]
  },
  {
   "cell_type": "markdown",
   "metadata": {},
   "source": [
    "Scrapes https://datatau.net/ and sends top articles by email. Stay ahead of the game!"
   ]
  },
  {
   "cell_type": "code",
   "execution_count": 1,
   "metadata": {},
   "outputs": [],
   "source": [
    "# Imports\n",
    "import pandas as pd\n",
    "import bs4 as bs\n",
    "import requests\n",
    "import smtplib\n",
    "import os\n",
    "import csv\n",
    "from email.message import EmailMessage"
   ]
  },
  {
   "cell_type": "code",
   "execution_count": 2,
   "metadata": {},
   "outputs": [],
   "source": [
    "# Constants\n",
    "URL = \"https://datatau.net\"\n",
    "USER = \"\" # email address used to send the email \"hello@gmail.com\" must be a gmail account\n",
    "PASS = \"\" # password \"pass123\"\n",
    "RECP = \"../data/recipients.csv\" # distribution list file path. Default: data/recipients.csv\n",
    "ER_RECP = [\"\"] # errors distribution list [\"ex1@gmail.com\", \"ex2@outlook.com\"]\n",
    "NUM_ART = 5 # Number of articles to add to the list. Max 30"
   ]
  },
  {
   "cell_type": "markdown",
   "metadata": {},
   "source": [
    "### Data Acquisition"
   ]
  },
  {
   "cell_type": "code",
   "execution_count": 3,
   "metadata": {
    "scrolled": true
   },
   "outputs": [],
   "source": [
    "def get_data(url):\n",
    "    \"\"\"\n",
    "    Parses DataTau.net and returns a list with the first 30 articles. \n",
    "    \"\"\"\n",
    "    r = requests.get(url)\n",
    "    \n",
    "    # Checks connection to DataTau\n",
    "    if r.status_code != 200:\n",
    "        \n",
    "        # If Datatau.net were unreachable, an error message will notify emails set in the ER_RECP constant.\n",
    "        print(f\"Connection error. DataTau.net is unreachable. Error code: {r.status_code}\")\n",
    "        error_notification(r.status_code, user=USER, password=PASS, recepient=ER_RECP)\n",
    "        exit()\n",
    "        return None\n",
    "    \n",
    "    else:\n",
    "        # If connection was successful, parses Datatau.net\n",
    "        soup = bs.BeautifulSoup(r.text, \"lxml\")\n",
    "        t = soup.find(\"table\", {\"class\": \"itemlist\"}) # gets main table\n",
    "        r = t.find_all(\"tr\", {\"class\": \"athing\"}) # parses main table, each row will be an item in the list\n",
    "        \n",
    "        # Extracts title and link from each item.\n",
    "        parsing = []\n",
    "        for i in r:\n",
    "            '''\n",
    "            Example:\n",
    "            title = (['Top 5 Examples of E-commerce Personalization Done Right', '(iunera.com)'],\n",
    "            link = 'https://www.iunera.com/kraken/big-data-science-intelligence/')\n",
    "            '''\n",
    "            item = i.find(\"td\", {\"class\": \"title\"}, align=False)\n",
    "            title = item.text.strip(\"\\n\").split(\"\\n \")\n",
    "            link = item.find(\"a\", {\"class\": \"storylink\"}).get(\"href\")\n",
    "\n",
    "            # Adding all titles and links to a unique list\n",
    "            title.append(link) # [\"Title\", \"Webpage name\", \"URL\"]\n",
    "            parsing.append(title) # [[\"Title\", \"Webpage name\", \"URL\"], [\"Title\", \"Webpage name\", \"URL\"] , ...]\n",
    "            \n",
    "        print(\"DataTau.net was successfully parsed\")\n",
    "            \n",
    "        return parsing"
   ]
  },
  {
   "cell_type": "code",
   "execution_count": 4,
   "metadata": {},
   "outputs": [],
   "source": [
    "def make_recipients_csv(rp_path: str):\n",
    "    \"\"\"\n",
    "    :param rp_path: recipient.csv path. Here will be place the recipients list file.\n",
    "    :return: Creates new recipients file with its header and two examples. Then, stops the script.\n",
    "    \"\"\"\n",
    "    with open(rp_path, \"w\") as new_file:\n",
    "        data_csv = [[\"Recipient\"], [\"new_recipient1@example.com\"], [\"new_recipient2@example.com\"]]\n",
    "        csv_writer = csv.writer(new_file)\n",
    "        for line in data_csv:\n",
    "            csv_writer.writerow(line)\n",
    "\n",
    "        print(f\"New recipients.csv file was added at the following path: {rp_path}\\n\"\n",
    "              f\"Please, add some recipients before running the script again.\")\n",
    "    exit()  "
   ]
  },
  {
   "cell_type": "code",
   "execution_count": 5,
   "metadata": {},
   "outputs": [],
   "source": [
    "def recipients_list(rp_path: str):\n",
    "    \"\"\"\n",
    "    :param rp_path: recipients.csv file\n",
    "    :return: a list comprising all recipients in the recipients.csv file [rep, rep2, rep3 ...]\n",
    "    \"\"\"\n",
    "    # if recipients.csv file does not exist, it will be created.\n",
    "    if not os.path.exists(rp_path):\n",
    "        make_recipients_csv(rp_path)\n",
    "    else:\n",
    "        with open(rp_path, \"r\") as f:\n",
    "            csv_reader = csv.reader(f)\n",
    "            next(csv_reader)\n",
    "            rp_list = [line[0] for line in csv_reader]\n",
    "            f.close()\n",
    "            \n",
    "            # Checking if generic recipients.csv file was updated with real email addresses\n",
    "            if rp_list[0] == \"new_recipient1@example.com\":\n",
    "                print(\"Please, update recipients.csv file with real email addresses\\n\"\n",
    "                      \"Nothing was sent\")\n",
    "                exit()\n",
    "            else:\n",
    "                return rp_list"
   ]
  },
  {
   "cell_type": "markdown",
   "metadata": {},
   "source": [
    "### Data Wrangling"
   ]
  },
  {
   "cell_type": "code",
   "execution_count": 6,
   "metadata": {},
   "outputs": [],
   "source": [
    "def generate_df(to_df):\n",
    "    \"\"\"\n",
    "    Loads previously parsed data into a df. This function is not currently in use.\n",
    "    \"\"\"\n",
    "    df = pd.DataFrame(to_df, columns=[\"Title\", \"Webpage\", \"Link\"])\n",
    "    df.Webpage = df.Webpage.apply(lambda x: x.lstrip(\"(\").rstrip(\")\"))\n",
    "    return df"
   ]
  },
  {
   "cell_type": "markdown",
   "metadata": {},
   "source": [
    "### Reporting"
   ]
  },
  {
   "cell_type": "code",
   "execution_count": 7,
   "metadata": {},
   "outputs": [],
   "source": [
    "def create_html_body(lst, num=5):\n",
    "    \"\"\"\n",
    "    Creates HTML string, num parameter sets how many articles will be added to the email. Max 30. \n",
    "    \"\"\"\n",
    "    num = 30 if num > 30 else num\n",
    "    \n",
    "    html_msg = \"\"\n",
    "    for i in range(num):\n",
    "        wp = lst[i][1][:-(lst[i][1][::-1].index(\".\"))-1].lstrip(\"(\") # removes domain and (); (medium.com)-> medium\n",
    "        art = f'''\n",
    "        <p><strong>{i+1}.&nbsp;&nbsp;</strong>\n",
    "        <a title=\"article\" href=\"{lst[i][2]}\" target=\"_blank\" rel=\"noopener\">{lst[i][0]}</a>\n",
    "        &nbsp;&nbsp; - &nbsp;&nbsp;<span style=\"color: #757575;\">{wp}</span>\n",
    "        </p>\n",
    "        '''\n",
    "        \n",
    "        html_msg = html_msg + art\n",
    "        \n",
    "    return html_msg"
   ]
  },
  {
   "cell_type": "code",
   "execution_count": 8,
   "metadata": {},
   "outputs": [],
   "source": [
    "def create_html_msg(html_body):\n",
    "    \"\"\"\n",
    "    Takes the previously generated HTML string (list of relevant links) and places it within a bigger HTML string \n",
    "    which will be used as the email's body. \n",
    "    \"\"\"\n",
    "    \n",
    "    full_msg = f'''\n",
    "    <h4 style=\"color: #212121;\">Hello, good-looking data scientist 😍</h4>\n",
    "    <h4 style=\"color: #212121;\">Here you have today's top 5 articles!</h4>\n",
    "    <p>&nbsp;</p>\n",
    "    {html_body}\n",
    "    <p>&nbsp;</p>\n",
    "    <p><span style=\"color: #000000;\">Don't miss the full list at&nbsp;<a title=\"datatau\" href=\"https://datatau.net/\" target=\"_blank\" rel=\"noopener\">DataTau.net</a></span></p>\n",
    "    <p>&nbsp;</p>\n",
    "    <p>Sent with ❤️ by Nico</p>\n",
    "    <p>&nbsp;</p>\n",
    "    '''\n",
    "    return full_msg"
   ]
  },
  {
   "cell_type": "code",
   "execution_count": 9,
   "metadata": {},
   "outputs": [],
   "source": [
    "def recipients_string(rp=RECP):\n",
    "    \"\"\"\n",
    "    Loads recipients in the recipients.csv file into a list, then creates a string of email addresses from it.\n",
    "    [\"ex1@gmail.com\", \"ex2@outlook.com\"] -> \"ex1@gmail.com, ex2@outlook.com\"\n",
    "    \"\"\"\n",
    "\n",
    "    # If recipients.csv does not exist, a generic file will be created before terminating the script.\n",
    "    distribution_list = recipients_list(rp)\n",
    "    if distribution_list is None:\n",
    "        exit()\n",
    "    else:\n",
    "        rp_string = \", \".join(distribution_list)\n",
    "        return rp_string"
   ]
  },
  {
   "cell_type": "code",
   "execution_count": 10,
   "metadata": {},
   "outputs": [],
   "source": [
    "def send_email(html_msg, recipients, user=USER, password=PASS):\n",
    "    \"\"\"\n",
    "    Connects to the gmail server and sends newsletter by email\n",
    "    \"\"\"\n",
    "    \n",
    "    msg = EmailMessage() \n",
    "    msg[\"Subject\"] = \"📡 This is what everyone is talking about!\"\n",
    "    msg[\"From\"] = user\n",
    "    msg[\"To\"] = \"nicosduty@gmail.com\"\n",
    "    msg[\"BCC\"] = recipients\n",
    "    msg.set_content(\"This message cannot be rendered. Sorry!\")\n",
    "    msg.add_alternative(html_msg, subtype='html')\n",
    "    \n",
    "    server = smtplib.SMTP_SSL(\"smtp.gmail.com\", 465)  # setting server and port\n",
    "    server.login(user, password)  # login\n",
    "    server.send_message(msg)  # sending email\n",
    "    server.quit()  # terminates connection\n",
    "    \n",
    "    print(\"Message sent!\")\n",
    "    return None"
   ]
  },
  {
   "cell_type": "code",
   "execution_count": 11,
   "metadata": {},
   "outputs": [],
   "source": [
    "def error_notification(articles, user=USER, password=PASS, recipient=ER_RECP):\n",
    "    \"\"\"\n",
    "    Connects to the gmail server and sends error report\n",
    "    \"\"\"\n",
    "    \n",
    "    msg = EmailMessage() \n",
    "    msg[\"Subject\"] = \"⚠️ DataTau.net is unreachable\"\n",
    "    msg[\"From\"] = user\n",
    "    msg[\"To\"] = \", \".join(recipient)\n",
    "    msg.set_content(f\"Status code error {articles}\")\n",
    "    \n",
    "    server = smtplib.SMTP_SSL(\"smtp.gmail.com\", 465)  # setting server and port\n",
    "    server.login(user, password)  # login\n",
    "    server.send_message(msg)  # sending email\n",
    "    server.quit()  # terminates the connection\n",
    "    \n",
    "    print(\"Error message sent!\")\n",
    "    return None"
   ]
  },
  {
   "cell_type": "code",
   "execution_count": 12,
   "metadata": {},
   "outputs": [
    {
     "name": "stdout",
     "output_type": "stream",
     "text": [
      "DataTau.net was successfully parsed\n"
     ]
    }
   ],
   "source": [
    "articles = get_data(URL)"
   ]
  },
  {
   "cell_type": "code",
   "execution_count": 13,
   "metadata": {},
   "outputs": [],
   "source": [
    "html_body_msg = create_html_body(articles, num=NUM_ART)"
   ]
  },
  {
   "cell_type": "code",
   "execution_count": 14,
   "metadata": {},
   "outputs": [],
   "source": [
    "full_html_msg = create_html_msg(html_body_msg)"
   ]
  },
  {
   "cell_type": "code",
   "execution_count": 15,
   "metadata": {},
   "outputs": [],
   "source": [
    "rp_string = recipients_string(RECP)"
   ]
  },
  {
   "cell_type": "code",
   "execution_count": 16,
   "metadata": {},
   "outputs": [
    {
     "name": "stdout",
     "output_type": "stream",
     "text": [
      "Message sent!\n"
     ]
    }
   ],
   "source": [
    "send_email(full_html_msg, rp_string)"
   ]
  },
  {
   "cell_type": "code",
   "execution_count": null,
   "metadata": {},
   "outputs": [],
   "source": []
  },
  {
   "cell_type": "code",
   "execution_count": null,
   "metadata": {},
   "outputs": [],
   "source": []
  },
  {
   "cell_type": "code",
   "execution_count": null,
   "metadata": {},
   "outputs": [],
   "source": []
  }
 ],
 "metadata": {
  "kernelspec": {
   "display_name": "Python [conda env:labs_env]",
   "language": "python",
   "name": "conda-env-labs_env-py"
  },
  "language_info": {
   "codemirror_mode": {
    "name": "ipython",
    "version": 3
   },
   "file_extension": ".py",
   "mimetype": "text/x-python",
   "name": "python",
   "nbconvert_exporter": "python",
   "pygments_lexer": "ipython3",
   "version": "3.7.5"
  }
 },
 "nbformat": 4,
 "nbformat_minor": 2
}
