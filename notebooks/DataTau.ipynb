{
 "cells": [
  {
   "cell_type": "markdown",
   "metadata": {},
   "source": [
    "# DataTau Scraper"
   ]
  },
  {
   "cell_type": "markdown",
   "metadata": {},
   "source": [
    "Scrapes https://datatau.net/ and sends to 5 articles by email (default=5). Stay ahead of the game!"
   ]
  },
  {
   "cell_type": "code",
   "execution_count": 1,
   "metadata": {},
   "outputs": [],
   "source": [
    "# Imports\n",
    "import pandas as pd\n",
    "import bs4 as bs\n",
    "import requests\n",
    "import smtplib\n",
    "from email.message import EmailMessage"
   ]
  },
  {
   "cell_type": "code",
   "execution_count": 2,
   "metadata": {},
   "outputs": [],
   "source": [
    "# Constants\n",
    "URL = \"https://datatau.net\"\n",
    "USER = \"\" # email address used to send the email \"hello@gmail.com\" must be a gmail account\n",
    "PASS =  \"\" # password \"pass123\"\n",
    "RECP = [] # distribution list [\"ex1@gmail.com\", \"ex2@outlook.com\"]\n",
    "ER_RECP = [] # errors distribution list [\"ex1@gmail.com\", \"ex2@outlook.com\"]\n",
    "NUM_ART = 5 # Number of articles to add to the list. Max 30"
   ]
  },
  {
   "cell_type": "markdown",
   "metadata": {},
   "source": [
    "### Data Acquisition"
   ]
  },
  {
   "cell_type": "code",
   "execution_count": null,
   "metadata": {
    "scrolled": true
   },
   "outputs": [],
   "source": [
    "def get_data(url):\n",
    "    \"\"\"\n",
    "    Parses DataTau.net and returns a list with the first 30 articles. \n",
    "    \"\"\"\n",
    "    r = requests.get(url)\n",
    "    \n",
    "    # Checks connection to DataTau\n",
    "    if r.status_code != 200:\n",
    "        print(f\"Connection error. DataTau.net is unreachable. Error code: {r.status_code}\")\n",
    "        return r.status_code\n",
    "    \n",
    "    else:\n",
    "        soup = bs.BeautifulSoup(r.text, \"lxml\")\n",
    "        t = soup.find(\"table\", {\"class\": \"itemlist\"}) # gets main table\n",
    "        r = t.find_all(\"tr\", {\"class\": \"athing\"}) # parses main table, each row will be an item in the list\n",
    "        \n",
    "        # Extracts title and link from each item.\n",
    "        to_df = []\n",
    "        for i in r:\n",
    "            '''\n",
    "            Example:\n",
    "            title = (['Top 5 Examples of E-commerce Personalization Done Right', '(iunera.com)'],\n",
    "            link = 'https://www.iunera.com/kraken/big-data-science-intelligence/')\n",
    "            '''\n",
    "            item = i.find(\"td\", {\"class\": \"title\"}, align=False)\n",
    "            title = item.text.strip(\"\\n\").split(\"\\n \")\n",
    "            link = item.find(\"a\", {\"class\": \"storylink\"}).get(\"href\")\n",
    "\n",
    "            # Adding all titles and links to a unique list\n",
    "            title.append(link)\n",
    "            to_df.append(title)\n",
    "            \n",
    "        print(\"DataTau.net was successfully parsed\")\n",
    "            \n",
    "        return to_df"
   ]
  },
  {
   "cell_type": "markdown",
   "metadata": {},
   "source": [
    "### Data Wrangling"
   ]
  },
  {
   "cell_type": "code",
   "execution_count": null,
   "metadata": {},
   "outputs": [],
   "source": [
    "def generate_df(to_df):\n",
    "    \"\"\"\n",
    "    Loads previously parsed data into a df. I'm not currently using this function.\n",
    "    \"\"\"\n",
    "    df = pd.DataFrame(to_df, columns=[\"Title\", \"Webpage\", \"Link\"])\n",
    "    df.Webpage = df.Webpage.apply(lambda x: x.lstrip(\"(\").rstrip(\")\"))\n",
    "    return df"
   ]
  },
  {
   "cell_type": "markdown",
   "metadata": {},
   "source": [
    "### Reporting"
   ]
  },
  {
   "cell_type": "code",
   "execution_count": null,
   "metadata": {},
   "outputs": [],
   "source": [
    "def create_html_body(lst, num=5):\n",
    "    \"\"\"\n",
    "    Creates HTML string, num parameter sets how many articles will be added to the email. Max 30. \n",
    "    \"\"\"\n",
    "    num = 30 if num > 30 else num\n",
    "    \n",
    "    html_msg = \"\"\n",
    "    for i in range(num):\n",
    "        wp = lst[i][1][:-(lst[i][1][::-1].index(\".\"))-1].lstrip(\"(\") # removes domain and (); (medium.com)-> medium\n",
    "        art = f'''\n",
    "        <p><strong>{i+1}.&nbsp;&nbsp;</strong>\n",
    "        <a title=\"article\" href=\"{lst[i][2]}\" target=\"_blank\" rel=\"noopener\">{lst[i][0]}</a>\n",
    "        &nbsp;&nbsp; - &nbsp;&nbsp;<span style=\"color: #757575;\">{wp}</span>\n",
    "        </p>\n",
    "        '''\n",
    "        \n",
    "        html_msg = html_msg + art\n",
    "        \n",
    "    return html_msg"
   ]
  },
  {
   "cell_type": "code",
   "execution_count": null,
   "metadata": {},
   "outputs": [],
   "source": [
    "def create_html_msg(html_body):\n",
    "    \"\"\"\n",
    "    Takes the previously generated HTML string and places it within a bigger HTML string \n",
    "    which will be used as the email's body. \n",
    "    \"\"\"\n",
    "    \n",
    "    full_msg = f'''\n",
    "    <h4 style=\"color: #212121;\">Hello, good-looking data scientist 😍</h4>\n",
    "    <h4 style=\"color: #212121;\">Here you have today's top 5 articles!</h4>\n",
    "    <p>&nbsp;</p>\n",
    "    {html_body}\n",
    "    <p>&nbsp;</p>\n",
    "    <p><span style=\"color: #000000;\">Don't miss the full list at&nbsp;<a title=\"datatau\" href=\"https://datatau.net/\" target=\"_blank\" rel=\"noopener\">DataTau.net</a></span></p>\n",
    "    <p>&nbsp;</p>\n",
    "    <p>Sent with ❤️ by Nico</p>\n",
    "    <p>&nbsp;</p>\n",
    "    '''\n",
    "    return full_msg"
   ]
  },
  {
   "cell_type": "code",
   "execution_count": null,
   "metadata": {},
   "outputs": [],
   "source": [
    "def send_email(html_msg, user=USER, password=PASS, recepient=RECP):\n",
    "    \"\"\"\n",
    "    Connects to the gmail server and sends data by email\n",
    "    \"\"\"\n",
    "    \n",
    "    msg = EmailMessage() \n",
    "    msg[\"Subject\"] = \"📡 This is what everyone is talking about!\"\n",
    "    msg[\"From\"] = user\n",
    "    msg[\"To\"] = \", \".join(recepient)\n",
    "    msg.set_content(\"This message cannot be rendered. Sorry!\")\n",
    "    msg.add_alternative(html_msg, subtype='html')\n",
    "    \n",
    "    server = smtplib.SMTP_SSL(\"smtp.gmail.com\", 465)  # setting server and port\n",
    "    server.login(user, password)  # login\n",
    "    server.send_message(msg)  # sending email\n",
    "    server.quit()  # terminates connection\n",
    "    \n",
    "    print(\"Message sent!\")\n",
    "    return None"
   ]
  },
  {
   "cell_type": "code",
   "execution_count": null,
   "metadata": {},
   "outputs": [],
   "source": [
    "def error_notification(articles, user=USER, password=PASS, recepient=ER_RECP):\n",
    "    \"\"\"\n",
    "    Connects to the gmail server and sends error report by email\n",
    "    \"\"\"\n",
    "    \n",
    "    msg = EmailMessage() \n",
    "    msg[\"Subject\"] = \"⚠️ DataTau.net is unreachable\"\n",
    "    msg[\"From\"] = user\n",
    "    msg[\"To\"] = \", \".join(recepient)\n",
    "    msg.set_content(f\"Status code error {articles}\")\n",
    "    \n",
    "    server = smtplib.SMTP_SSL(\"smtp.gmail.com\", 465)  # setting server and port\n",
    "    server.login(user, password)  # login\n",
    "    server.send_message(msg)  # sending email\n",
    "    server.quit()  # terminates connection\n",
    "    \n",
    "    print(\"Error message sent!\")\n",
    "    return None"
   ]
  },
  {
   "cell_type": "code",
   "execution_count": null,
   "metadata": {},
   "outputs": [],
   "source": [
    "articles = get_data(URL)\n",
    "\n",
    "if articles != 200:\n",
    "    html_body_msg = create_html_body(articles, num=NUM_ART)\n",
    "    full_html_msg = create_html_msg(html_body_msg)\n",
    "    send_email(full_html_msg)\n",
    "else:\n",
    "    error_notification(articles)"
   ]
  },
  {
   "cell_type": "code",
   "execution_count": null,
   "metadata": {},
   "outputs": [],
   "source": []
  },
  {
   "cell_type": "code",
   "execution_count": null,
   "metadata": {},
   "outputs": [],
   "source": []
  },
  {
   "cell_type": "code",
   "execution_count": null,
   "metadata": {},
   "outputs": [],
   "source": []
  }
 ],
 "metadata": {
  "kernelspec": {
   "display_name": "Python [conda env:labs_env]",
   "language": "python",
   "name": "conda-env-labs_env-py"
  },
  "language_info": {
   "codemirror_mode": {
    "name": "ipython",
    "version": 3
   },
   "file_extension": ".py",
   "mimetype": "text/x-python",
   "name": "python",
   "nbconvert_exporter": "python",
   "pygments_lexer": "ipython3",
   "version": "3.7.5"
  }
 },
 "nbformat": 4,
 "nbformat_minor": 2
}
